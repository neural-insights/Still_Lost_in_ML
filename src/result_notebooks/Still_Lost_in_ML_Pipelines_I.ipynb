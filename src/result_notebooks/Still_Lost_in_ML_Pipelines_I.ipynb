{
 "cells": [
  {
   "cell_type": "code",
   "execution_count": 1,
   "metadata": {},
   "outputs": [],
   "source": [
    "# ===============================\n",
    "# Still Lost in ML - Pipelines I\n",
    "# ===============================\n",
    "\n",
    "# Importando Librerías\n",
    "import matplotlib.pyplot as plt\n",
    "import numpy as np\n",
    "import pandas as pd\n",
    "import seaborn as sns\n",
    "from sklearn.model_selection import train_test_split, RandomizedSearchCV\n",
    "from sklearn.metrics import mean_squared_error, mean_absolute_percentage_error, r2_score\n",
    "from sklearn.preprocessing import OneHotEncoder, LabelEncoder, StandardScaler\n",
    "from sklearn.linear_model import ElasticNet\n",
    "from sklearn.pipeline import Pipeline\n",
    "from sklearn.compose import ColumnTransformer\n",
    "from sklearn.impute import SimpleImputer\n",
    "import joblib\n",
    "import os\n",
    "\n",
    "# Crear directorios necesarios\n",
    "os.makedirs('../data', exist_ok=True)\n",
    "os.makedirs('../models', exist_ok=True)"
   ]
  },
  {
   "cell_type": "code",
   "execution_count": 2,
   "metadata": {},
   "outputs": [],
   "source": [
    "# ==================\n",
    "# 1. Carga de Datos\n",
    "# ==================\n",
    "\n",
    "# Importando Conjunto de Datos\n",
    "df_car = pd.read_csv(\"../data/car_price_dataset.csv\")\n",
    "\n",
    "# Dividir en features y target\n",
    "target = \"Price\"\n",
    "features = [col for col in df_car.columns if col != target]\n",
    "\n",
    "# División de features numéricas y categóricas\n",
    "features_num = [col for col in features if df_car[col].dtype != object]\n",
    "features_cat = [col for col in features if df_car[col].dtype == object]\n",
    "\n",
    "X = df_car[features]\n",
    "y = df_car[target]\n",
    "\n",
    "# División en train y test (80%-20%)\n",
    "X_train, X_test, y_train, y_test = train_test_split(X, y, test_size=0.2, random_state=42)\n",
    "\n",
    "# Guardar datasets en src/data\n",
    "X_train.to_csv('../data/car_price_train.csv', index=False)\n",
    "X_test.to_csv('../data/car_price_test.csv', index=False)\n",
    "pd.DataFrame(y_train).to_csv('../data/car_price_train_target.csv', index=False)\n",
    "pd.DataFrame(y_test).to_csv('../data/car_price_test_target.csv', index=False)"
   ]
  },
  {
   "cell_type": "code",
   "execution_count": 3,
   "metadata": {},
   "outputs": [],
   "source": [
    "# =============================\n",
    "# 2. Construcción del Pipeline\n",
    "# =============================\n",
    "\n",
    "# Preprocesamiento para variables numéricas\n",
    "numeric_transformer = Pipeline(steps=[\n",
    "    ('imputer', SimpleImputer(strategy='mean')),\n",
    "    ('scaler', StandardScaler())\n",
    "])\n",
    "\n",
    "# Preprocesamiento para variables categóricas\n",
    "categorical_transformer = Pipeline(steps=[\n",
    "    ('imputer', SimpleImputer(strategy='most_frequent')),\n",
    "    ('onehot', OneHotEncoder(handle_unknown='ignore'))\n",
    "])\n",
    "\n",
    "# Combinar transformaciones en un ColumnTransformer\n",
    "preprocessor = ColumnTransformer(\n",
    "    transformers=[\n",
    "        ('num', numeric_transformer, features_num),\n",
    "        ('cat', categorical_transformer, features_cat)\n",
    "    ]\n",
    ")\n",
    "\n",
    "# Crear el pipeline completo\n",
    "model_pipeline = Pipeline(steps=[\n",
    "    ('preprocessor', preprocessor),\n",
    "    ('regressor', ElasticNet())\n",
    "])\n"
   ]
  },
  {
   "cell_type": "code",
   "execution_count": 4,
   "metadata": {},
   "outputs": [],
   "source": [
    "# ===================================\n",
    "# 3. Optimización de Hiperparámetros\n",
    "# ===================================\n",
    "\n",
    "# Definir espacio de búsqueda para RandomizedSearchCV\n",
    "param_dist = {\n",
    "    'regressor__alpha': np.logspace(-5, 5, 11),\n",
    "    'regressor__l1_ratio': np.linspace(0, 1, 11)\n",
    "}\n",
    "\n",
    "random_search = RandomizedSearchCV(\n",
    "    model_pipeline,\n",
    "    param_distributions=param_dist,\n",
    "    n_iter=100,\n",
    "    scoring='neg_root_mean_squared_error',\n",
    "    cv=5,\n",
    "    random_state=42,\n",
    "    n_jobs=-1\n",
    ")\n",
    "\n",
    "# Entrenar el pipeline con optimización\n",
    "random_search.fit(X_train, y_train)\n",
    "\n",
    "# Mejor modelo encontrado\n",
    "best_model = random_search.best_estimator_"
   ]
  },
  {
   "cell_type": "code",
   "execution_count": 5,
   "metadata": {},
   "outputs": [
    {
     "name": "stdout",
     "output_type": "stream",
     "text": [
      "Entrenamiento:\n",
      "RMSE: 90.13247728926791, MAPE: 0.005994319589858227, R²: 0.9991718140859525\n",
      "¡Modelo guardado con éxito!\n"
     ]
    }
   ],
   "source": [
    "# =========================\n",
    "# 4. Evaluación del Modelo\n",
    "# =========================\n",
    "\n",
    "# Predicciones en train\n",
    "y_train_pred = best_model.predict(X_train)\n",
    "rmse_train = np.sqrt(mean_squared_error(y_train, y_train_pred))\n",
    "mape_train = mean_absolute_percentage_error(y_train, y_train_pred)\n",
    "r2_train = r2_score(y_train, y_train_pred)\n",
    "\n",
    "print(\"Entrenamiento:\")\n",
    "print(f\"RMSE: {rmse_train}, MAPE: {mape_train}, R²: {r2_train}\")\n",
    "\n",
    "# Guardar el modelo entrenado\n",
    "joblib.dump(best_model, '../models/best_model.pkl')\n",
    "print(\"¡Modelo guardado con éxito!\")"
   ]
  }
 ],
 "metadata": {
  "kernelspec": {
   "display_name": "Python 3",
   "language": "python",
   "name": "python3"
  },
  "language_info": {
   "codemirror_mode": {
    "name": "ipython",
    "version": 3
   },
   "file_extension": ".py",
   "mimetype": "text/x-python",
   "name": "python",
   "nbconvert_exporter": "python",
   "pygments_lexer": "ipython3",
   "version": "3.12.8"
  }
 },
 "nbformat": 4,
 "nbformat_minor": 2
}

{
 "cells": [
  {
   "cell_type": "code",
   "execution_count": 1,
   "metadata": {},
   "outputs": [],
   "source": [
    "# ================================\n",
    "# Still Lost in ML - Pipelines II\n",
    "# ================================\n",
    "\n",
    "# Importando Librerías\n",
    "import numpy as np\n",
    "import pandas as pd\n",
    "from sklearn.metrics import mean_squared_error, mean_absolute_percentage_error, r2_score\n",
    "import joblib\n",
    "import os\n",
    "\n",
    "# Crear directorios necesarios\n",
    "os.makedirs('../models', exist_ok=True)"
   ]
  },
  {
   "cell_type": "code",
   "execution_count": 2,
   "metadata": {},
   "outputs": [
    {
     "name": "stdout",
     "output_type": "stream",
     "text": [
      "¡Modelo cargado con éxito!\n"
     ]
    }
   ],
   "source": [
    "# ==============================\n",
    "# 1. Carga del Modelo Entrenado\n",
    "# ==============================\n",
    "\n",
    "# Cargar el modelo guardado\n",
    "model_path = '../models/best_model.pkl'\n",
    "best_model = joblib.load(model_path)\n",
    "print(\"¡Modelo cargado con éxito!\")"
   ]
  },
  {
   "cell_type": "code",
   "execution_count": 3,
   "metadata": {},
   "outputs": [],
   "source": [
    "# ==============================\n",
    "# 2. Carga del Conjunto de Test\n",
    "# ==============================\n",
    "\n",
    "# Cargar datos de test\n",
    "X_test = pd.read_csv('../data/car_price_test.csv')\n",
    "y_test = pd.read_csv('../data/car_price_test_target.csv').values.ravel()"
   ]
  },
  {
   "cell_type": "code",
   "execution_count": 4,
   "metadata": {},
   "outputs": [],
   "source": [
    "# =========================\n",
    "# 3. Realizar Predicciones\n",
    "# =========================\n",
    "\n",
    "# Realizar predicciones sobre el conjunto de test\n",
    "y_pred = best_model.predict(X_test)"
   ]
  },
  {
   "cell_type": "code",
   "execution_count": 5,
   "metadata": {},
   "outputs": [
    {
     "name": "stdout",
     "output_type": "stream",
     "text": [
      "Resultados en el conjunto de test:\n",
      "RMSE: 64.75147588344002\n",
      "MAPE: 0.004520620853845732\n",
      "R²: 0.999543661352875\n"
     ]
    }
   ],
   "source": [
    "# =========================\n",
    "# 4. Evaluación del Modelo\n",
    "# =========================\n",
    "\n",
    "# Calcular métricas de evaluación\n",
    "rmse = np.sqrt(mean_squared_error(y_test, y_pred))\n",
    "mape = mean_absolute_percentage_error(y_test, y_pred)\n",
    "r2 = r2_score(y_test, y_pred)\n",
    "\n",
    "# Mostrar resultados\n",
    "print(\"Resultados en el conjunto de test:\")\n",
    "print(f\"RMSE: {rmse}\")\n",
    "print(f\"MAPE: {mape}\")\n",
    "print(f\"R²: {r2}\")"
   ]
  },
  {
   "cell_type": "markdown",
   "metadata": {},
   "source": [
    "## Justificación de las Métricas\n",
    "Las métricas elegidas son:\n",
    "- RMSE (Root Mean Squared Error): Penaliza más los errores grandes.\n",
    "- MAPE (Mean Absolute Percentage Error): Proporciona una medida porcentual del error, lo que facilita la interpretación.\n",
    "- R² (R-squared): Indica qué tan bien explica el modelo la varianza del target. Un valor cercano a 1 indica un buen ajuste."
   ]
  }
 ],
 "metadata": {
  "kernelspec": {
   "display_name": "Python 3",
   "language": "python",
   "name": "python3"
  },
  "language_info": {
   "codemirror_mode": {
    "name": "ipython",
    "version": 3
   },
   "file_extension": ".py",
   "mimetype": "text/x-python",
   "name": "python",
   "nbconvert_exporter": "python",
   "pygments_lexer": "ipython3",
   "version": "3.12.8"
  }
 },
 "nbformat": 4,
 "nbformat_minor": 2
}
